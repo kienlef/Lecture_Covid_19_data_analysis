{
 "cells": [
  {
   "cell_type": "code",
   "execution_count": 3,
   "metadata": {},
   "outputs": [],
   "source": [
    "import pandas as pd\n",
    "import numpy as np\n",
    "\n",
    "from datetime import datetime\n",
    "import pandas as pd \n",
    "\n",
    "from scipy import optimize\n",
    "from scipy import integrate\n",
    "\n",
    "%matplotlib inline\n",
    "import matplotlib as mpl\n",
    "import matplotlib.pyplot as plt\n",
    "\n",
    "import seaborn as sns\n",
    "\n",
    "\n",
    "sns.set(style=\"darkgrid\")\n",
    "\n",
    "mpl.rcParams['figure.figsize'] = (16, 9)\n",
    "pd.set_option('display.max_rows', 500)\n",
    "\n",
    "\n"
   ]
  },
  {
   "cell_type": "markdown",
   "metadata": {},
   "source": [
    "# Data set cleaned for Covid-19 modelling\n",
    "\n",
    "the file COVED_small_flat_table has to be generated via the NOTEBOOK DATA PREPARATION\n",
    "\n",
    "Goal of the exercise a dynamic dashboard of the last cell in the notebook, where one can select the fit for different countries\n",
    "\n",
    "Fit of SIR model for Germany cases\n"
   ]
  },
  {
   "cell_type": "code",
   "execution_count": 8,
   "metadata": {},
   "outputs": [
    {
     "data": {
      "text/html": [
       "<div>\n",
       "<style scoped>\n",
       "    .dataframe tbody tr th:only-of-type {\n",
       "        vertical-align: middle;\n",
       "    }\n",
       "\n",
       "    .dataframe tbody tr th {\n",
       "        vertical-align: top;\n",
       "    }\n",
       "\n",
       "    .dataframe thead th {\n",
       "        text-align: right;\n",
       "    }\n",
       "</style>\n",
       "<table border=\"1\" class=\"dataframe\">\n",
       "  <thead>\n",
       "    <tr style=\"text-align: right;\">\n",
       "      <th></th>\n",
       "      <th>date</th>\n",
       "      <th>Italy</th>\n",
       "      <th>US</th>\n",
       "      <th>Spain</th>\n",
       "      <th>Germany</th>\n",
       "      <th>Korea, South</th>\n",
       "    </tr>\n",
       "  </thead>\n",
       "  <tbody>\n",
       "    <tr>\n",
       "      <th>832</th>\n",
       "      <td>2022-05-03</td>\n",
       "      <td>16586268</td>\n",
       "      <td>81506075</td>\n",
       "      <td>11953481</td>\n",
       "      <td>25033970</td>\n",
       "      <td>17395791</td>\n",
       "    </tr>\n",
       "    <tr>\n",
       "      <th>833</th>\n",
       "      <td>2022-05-04</td>\n",
       "      <td>16633911</td>\n",
       "      <td>81620383</td>\n",
       "      <td>11953481</td>\n",
       "      <td>25130137</td>\n",
       "      <td>17438068</td>\n",
       "    </tr>\n",
       "    <tr>\n",
       "      <th>834</th>\n",
       "      <td>2022-05-05</td>\n",
       "      <td>16682626</td>\n",
       "      <td>81694580</td>\n",
       "      <td>11953481</td>\n",
       "      <td>25215210</td>\n",
       "      <td>17464782</td>\n",
       "    </tr>\n",
       "    <tr>\n",
       "      <th>835</th>\n",
       "      <td>2022-05-06</td>\n",
       "      <td>16726990</td>\n",
       "      <td>81831854</td>\n",
       "      <td>11953481</td>\n",
       "      <td>25287462</td>\n",
       "      <td>17504334</td>\n",
       "    </tr>\n",
       "    <tr>\n",
       "      <th>836</th>\n",
       "      <td>2022-05-07</td>\n",
       "      <td>16767773</td>\n",
       "      <td>81858744</td>\n",
       "      <td>11953481</td>\n",
       "      <td>25295950</td>\n",
       "      <td>17544398</td>\n",
       "    </tr>\n",
       "  </tbody>\n",
       "</table>\n",
       "</div>"
      ],
      "text/plain": [
       "           date     Italy        US     Spain   Germany  Korea, South\n",
       "832  2022-05-03  16586268  81506075  11953481  25033970      17395791\n",
       "833  2022-05-04  16633911  81620383  11953481  25130137      17438068\n",
       "834  2022-05-05  16682626  81694580  11953481  25215210      17464782\n",
       "835  2022-05-06  16726990  81831854  11953481  25287462      17504334\n",
       "836  2022-05-07  16767773  81858744  11953481  25295950      17544398"
      ]
     },
     "execution_count": 8,
     "metadata": {},
     "output_type": "execute_result"
    }
   ],
   "source": [
    "# try to parse the dates right at the beginning \n",
    "# it works out of the box if the date was stored ISO YYYY-MM-DD format\n",
    "\n",
    "\n",
    "df_analyse=pd.read_csv('../data/processed/COVID_small_flat_table.csv',sep=';')  \n",
    "df_analyse.sort_values('date',ascending=True).tail()"
   ]
  },
  {
   "cell_type": "code",
   "execution_count": 9,
   "metadata": {},
   "outputs": [],
   "source": [
    "# set some basic parameters\n",
    "# beta/gamma is denoted as  'basic reproduction number'\n",
    "\n",
    "N0=1000000 #max susceptible population\n",
    "beta=0.4   # infection spread dynamics\n",
    "gamma=0.1  # recovery rate\n",
    "\n",
    "\n",
    "# condition I0+S0+R0=N0\n",
    "I0=df_analyse.Germany[35]\n",
    "S0=N0-I0\n",
    "R0=0"
   ]
  },
  {
   "cell_type": "code",
   "execution_count": 10,
   "metadata": {},
   "outputs": [],
   "source": [
    "def SIR_model(SIR,beta,gamma):\n",
    "    ''' Simple SIR model\n",
    "        S: susceptible population\n",
    "        I: infected people\n",
    "        R: recovered people\n",
    "        beta: \n",
    "        \n",
    "        overall condition is that the sum of changes (differnces) sum up to 0\n",
    "        dS+dI+dR=0\n",
    "        S+I+R= N (constant size of population)\n",
    "    \n",
    "    '''\n",
    "    \n",
    "    S,I,R=SIR\n",
    "    dS_dt=-beta*S*I/N0          #S*I is the \n",
    "    dI_dt=beta*S*I/N0-gamma*I\n",
    "    dR_dt=gamma*I\n",
    "    return([dS_dt,dI_dt,dR_dt])\n"
   ]
  },
  {
   "cell_type": "markdown",
   "metadata": {},
   "source": [
    "# Simulative approach to calculate SIR curves"
   ]
  },
  {
   "cell_type": "code",
   "execution_count": 11,
   "metadata": {},
   "outputs": [],
   "source": [
    "\n",
    "SIR=np.array([S0,I0,R0])\n",
    "propagation_rates=pd.DataFrame(columns={'susceptible':S0,\n",
    "                                        'infected':I0,\n",
    "                                        'recoverd':R0})\n",
    "\n",
    "\n",
    "\n",
    "for each_t in np.arange(100):\n",
    "   \n",
    "    new_delta_vec=SIR_model(SIR,beta,gamma)\n",
    "   \n",
    "    SIR=SIR+new_delta_vec\n",
    "    \n",
    "    propagation_rates=propagation_rates.append({'susceptible':SIR[0],\n",
    "                                                'infected':SIR[1],\n",
    "                                                'recovered':SIR[2]}, ignore_index=True)\n"
   ]
  },
  {
   "cell_type": "code",
   "execution_count": 12,
   "metadata": {},
   "outputs": [
    {
     "data": {
      "image/png": "[encoded data removed]",
      "text/plain": [
       "<Figure size 1152x648 with 1 Axes>"
      ]
     },
     "metadata": {},
     "output_type": "display_data"
    }
   ],
   "source": [
    "fig, ax1 = plt.subplots(1, 1)\n",
    "\n",
    "ax1.plot(propagation_rates.index,propagation_rates.infected,label='infected',color='k')\n",
    "ax1.plot(propagation_rates.index,propagation_rates.recovered,label='recovered')\n",
    "ax1.plot(propagation_rates.index,propagation_rates.susceptible,label='susceptible')\n",
    "\n",
    "ax1.set_ylim(10, 1000000)\n",
    "ax1.set_yscale('linear')\n",
    "ax1.set_title('Szenario SIR simulations  (demonstration purposes only)',size=16)\n",
    "ax1.set_xlabel('time in days',size=16)\n",
    "ax1.legend(loc='best',\n",
    "           prop={'size': 16});"
   ]
  },
  {
   "cell_type": "markdown",
   "metadata": {},
   "source": [
    "# Fitting the parameters of SIR model"
   ]
  },
  {
   "cell_type": "code",
   "execution_count": 13,
   "metadata": {},
   "outputs": [],
   "source": [
    "\n",
    "\n",
    "ydata = np.array(df_analyse.Germany[35:])\n",
    "t=np.arange(len(ydata))"
   ]
  },
  {
   "cell_type": "code",
   "execution_count": 14,
   "metadata": {},
   "outputs": [
    {
     "data": {
      "text/plain": [
       "0.4"
      ]
     },
     "execution_count": 14,
     "metadata": {},
     "output_type": "execute_result"
    }
   ],
   "source": [
    "# ensure re-initialization \n",
    "I0=ydata[0]\n",
    "S0=N0-I0\n",
    "R0=0\n",
    "beta"
   ]
  },
  {
   "cell_type": "code",
   "execution_count": 15,
   "metadata": {},
   "outputs": [],
   "source": [
    "def SIR_model_t(SIR,t,beta,gamma):\n",
    "    ''' Simple SIR model\n",
    "        S: susceptible population\n",
    "        t: time step, mandatory for integral.odeint\n",
    "        I: infected people\n",
    "        R: recovered people\n",
    "        beta: \n",
    "        \n",
    "        overall condition is that the sum of changes (differnces) sum up to 0\n",
    "        dS+dI+dR=0\n",
    "        S+I+R= N (constant size of population)\n",
    "    \n",
    "    '''\n",
    "    \n",
    "    S,I,R=SIR\n",
    "    dS_dt=-beta*S*I/N0          #S*I is the \n",
    "    dI_dt=beta*S*I/N0-gamma*I\n",
    "    dR_dt=gamma*I\n",
    "    return dS_dt,dI_dt,dR_dt"
   ]
  },
  {
   "cell_type": "code",
   "execution_count": 16,
   "metadata": {},
   "outputs": [],
   "source": [
    "\n",
    "\n",
    "def fit_odeint(x, beta, gamma):\n",
    "    '''\n",
    "    helper function for the integration\n",
    "    '''\n",
    "    return integrate.odeint(SIR_model_t, (S0, I0, R0), t, args=(beta, gamma))[:,1] # we only would like to get dI"
   ]
  },
  {
   "cell_type": "code",
   "execution_count": 17,
   "metadata": {},
   "outputs": [
    {
     "data": {
      "text/plain": [
       "array([ 2.10000000e+01,  2.83467442e+01,  3.82635349e+01,  5.16492851e+01,\n",
       "        6.97171980e+01,  9.41045567e+01,  1.27020786e+02,  1.71447062e+02,\n",
       "        2.31405299e+02,  3.12320402e+02,  4.21507742e+02,  5.68828389e+02,\n",
       "        7.67568562e+02,  1.03561758e+03,  1.39704132e+03,  1.88417601e+03,\n",
       "        2.54040014e+03,  3.42377774e+03,  4.61179988e+03,  6.20746901e+03,\n",
       "        8.34695108e+03,  1.12089170e+04,  1.50254352e+04,  2.00937383e+04,\n",
       "        2.67872046e+04,  3.55622587e+04,  4.69554712e+04,  6.15620761e+04,\n",
       "        7.99843269e+04,  1.02737867e+05,  1.30110563e+05,  1.61985487e+05,\n",
       "        1.97668411e+05,  2.35790176e+05,  2.74361695e+05,  3.11019967e+05,\n",
       "        3.43420416e+05,  3.69650711e+05,  3.88523547e+05,  3.99666850e+05,\n",
       "        4.03424001e+05,  4.00642226e+05,  3.92438005e+05,  3.80000472e+05,\n",
       "        3.64456984e+05,  3.46798540e+05,  3.27850544e+05,  3.08272539e+05,\n",
       "        2.88573617e+05,  2.69134372e+05,  2.50230013e+05,  2.32051744e+05,\n",
       "        2.14725295e+05,  1.98326261e+05,  1.82892479e+05,  1.68433817e+05,\n",
       "        1.54939807e+05,  1.42385535e+05,  1.30736144e+05,  1.19950255e+05,\n",
       "        1.09982530e+05,  1.00785593e+05,  9.23114415e+04,  8.45124711e+04,\n",
       "        7.73422095e+04,  7.07558225e+04,  6.47104517e+04,  5.91654233e+04,\n",
       "        5.40823618e+04,  4.94252319e+04,  4.51603290e+04,  4.12562313e+04,\n",
       "        3.76837260e+04,  3.44157177e+04,  3.14271247e+04,  2.86947697e+04,\n",
       "        2.61972668e+04,  2.39149082e+04,  2.18295531e+04,  1.99245197e+04,\n",
       "        1.81844810e+04,  1.65953653e+04,  1.51442623e+04,  1.38193343e+04,\n",
       "        1.26097328e+04,  1.15055207e+04,  1.04975994e+04,  9.57764109e+03,\n",
       "        8.73802644e+03,  7.97178607e+03,  7.27254702e+03,  6.63448307e+03,\n",
       "        6.05226908e+03,  5.52103879e+03,  5.03634615e+03,  4.59412966e+03,\n",
       "        4.19067964e+03,  3.82260824e+03,  3.48682188e+03,  3.18049600e+03,\n",
       "        2.90105190e+03,  2.64613558e+03,  2.41359832e+03,  2.20147894e+03,\n",
       "        2.00798753e+03,  1.83149061e+03,  1.67049752e+03,  1.52364803e+03,\n",
       "        1.38970096e+03,  1.26752383e+03,  1.15608337e+03,  1.05443684e+03,\n",
       "        9.61724161e+02,  8.77160673e+02,  8.00030535e+02,  7.29680715e+02,\n",
       "        6.65515482e+02,  6.06991401e+02,  5.53612739e+02,  5.04927292e+02,\n",
       "        4.60522570e+02,  4.20022307e+02,  3.83083294e+02,  3.49392470e+02,\n",
       "        3.18664281e+02,  2.90638265e+02,  2.65076847e+02,  2.41763334e+02,\n",
       "        2.20500075e+02,  2.01106793e+02,  1.83419060e+02,  1.67286900e+02,\n",
       "        1.52573523e+02,  1.39154163e+02,  1.26915025e+02,  1.15752319e+02,\n",
       "        1.05571381e+02,  9.62858700e+01,  8.78170376e+01,  8.00930597e+01,\n",
       "        7.30484285e+01,  6.66233963e+01,  6.07634701e+01,  5.54189488e+01,\n",
       "        5.05445021e+01,  4.60987864e+01,  4.20440940e+01,  3.83460334e+01,\n",
       "        3.49732378e+01,  3.18970991e+01,  2.90915252e+01,  2.65327187e+01,\n",
       "        2.41989755e+01,  2.20705000e+01,  2.01292380e+01,  1.83587230e+01,\n",
       "        1.67439369e+01,  1.52711824e+01,  1.39279670e+01,  1.27028970e+01,\n",
       "        1.15855806e+01,  1.05665404e+01,  9.63713215e+00,  8.78947225e+00,\n",
       "        8.01637032e+00,  7.31126850e+00,  6.66818568e+00,  6.08166686e+00,\n",
       "        5.54673683e+00,  5.05885797e+00,  4.61389180e+00,  4.20806383e+00,\n",
       "        3.83793155e+00,  3.50035528e+00,  3.19247146e+00,  2.91166842e+00,\n",
       "        2.65556420e+00,  2.42198634e+00,  2.20895349e+00,  2.01465854e+00,\n",
       "        1.83745336e+00,  1.67583478e+00,  1.52843181e+00,  1.39399411e+00,\n",
       "        1.27138126e+00,  1.15955317e+00,  1.05756126e+00,  9.64540338e-01,\n",
       "        8.79701344e-01,  8.02324613e-01,  7.31753777e-01,  6.67390209e-01,\n",
       "        6.08687926e-01,  5.55148975e-01,  5.06319201e-01,  4.61784393e-01,\n",
       "        4.21166777e-01,  3.84121802e-01,  3.50335228e-01,  3.19520452e-01,\n",
       "        2.91416081e-01,  2.65783716e-01,  2.42405919e-01,  2.21084386e-01,\n",
       "        2.01638251e-01,  1.83902559e-01,  1.67726863e-01,  1.52973948e-01,\n",
       "        1.39518669e-01,  1.27246889e-01,  1.16054510e-01,  1.05846590e-01,\n",
       "        9.65365387e-02,  8.80453798e-02,  8.03010865e-02,  7.32379656e-02,\n",
       "        6.67961042e-02,  6.09208540e-02,  5.55623794e-02,  5.06752247e-02,\n",
       "        4.62179348e-02,  4.21526990e-02,  3.84450331e-02,  3.50634861e-02,\n",
       "        3.19793726e-02,  2.91665319e-02,  2.66011027e-02,  2.42613240e-02,\n",
       "        2.21273469e-02,  2.01810704e-02,  1.84059841e-02,  1.67870312e-02,\n",
       "        1.53104778e-02,  1.39637994e-02,  1.27355719e-02,  1.16153767e-02,\n",
       "        1.05937117e-02,  9.66191025e-03,  8.81206831e-03,  8.03697657e-03,\n",
       "        7.33006046e-03,  6.68532311e-03,  6.09729568e-03,  5.56098986e-03,\n",
       "        5.07185652e-03,  4.62574627e-03,  4.21887500e-03,  3.84779128e-03,\n",
       "        3.50934736e-03,  3.20067230e-03,  2.91914779e-03,  2.66238581e-03,\n",
       "        2.42820773e-03,  2.21462742e-03,  2.01983316e-03,  1.84217232e-03,\n",
       "        1.68013805e-03,  1.53235640e-03,  1.39757307e-03,  1.27464530e-03,\n",
       "        1.16252991e-03,  1.06027592e-03,  9.67016177e-04,  8.81959157e-04,\n",
       "        8.04383815e-04,  7.33631741e-04,  6.69102899e-04,  6.10249814e-04,\n",
       "        5.56573044e-04,  5.07617926e-04,  4.62968830e-04,  4.22246894e-04,\n",
       "        3.85106996e-04,  3.51233687e-04,  3.20339786e-04,  2.92163361e-04,\n",
       "        2.66465128e-04,  2.43027368e-04,  2.21651189e-04,  2.02155146e-04,\n",
       "        1.84374017e-04,  1.68156813e-04,  1.53366007e-04,  1.39876252e-04,\n",
       "        1.27572983e-04,  1.16351901e-04,  1.06117722e-04,  9.67835301e-05,\n",
       "        8.82704284e-05,  8.05064741e-05,  7.34256128e-05,  6.69676370e-05,\n",
       "        6.10774832e-05,  5.57055973e-05,  5.08063124e-05,  4.63375475e-05,\n",
       "        4.22617513e-05,  3.85445859e-05,  3.51542665e-05,  3.20620713e-05,\n",
       "        2.92420501e-05,  2.66700858e-05,  2.43241589e-05,  2.21846961e-05,\n",
       "        2.02334651e-05,  1.84537175e-05,  1.68306492e-05,  1.53505007e-05,\n",
       "        1.40004789e-05,  1.27689046e-05,  1.16457170e-05,  1.06213902e-05,\n",
       "        9.68709506e-06,  8.83487166e-06,  8.05770669e-06,  7.34897239e-06,\n",
       "        6.70252375e-06,  6.11291721e-06,  5.57525337e-06,  5.08491215e-06,\n",
       "        4.63760940e-06,  4.22963347e-06,  3.85757927e-06,  3.51825995e-06,\n",
       "        3.20863938e-06,  2.92645634e-06,  2.66906522e-06,  2.43430354e-06,\n",
       "        2.22017131e-06,  2.02493702e-06,  1.84691098e-06,  1.68452690e-06,\n",
       "        1.53634911e-06,  1.40109008e-06,  1.27762521e-06,  1.16494534e-06,\n",
       "        1.06217675e-06,  9.68581827e-07,  8.83352969e-07,  8.05592936e-07,\n",
       "        7.34662758e-07,  6.70011438e-07,  6.11174887e-07,  5.57596188e-07,\n",
       "        5.08705266e-07,  4.64083812e-07,  4.23367181e-07,  3.85425837e-07,\n",
       "        3.52046186e-07,  3.21317293e-07,  2.93122589e-07,  2.67345506e-07,\n",
       "        2.43864788e-07,  2.22467167e-07,  2.02967597e-07,  1.85209665e-07,\n",
       "        1.69036960e-07,  1.54293070e-07,  1.40826541e-07,  1.28567842e-07,\n",
       "        1.17419090e-07,  1.07258927e-07,  9.79659956e-08,  8.94189382e-08,\n",
       "        8.15065777e-08,  7.42610898e-08,  6.76597121e-08,  6.16418659e-08,\n",
       "        5.61469723e-08,  5.11144526e-08,  4.54515992e-08,  4.16986478e-08,\n",
       "        3.81750050e-08,  3.48806710e-08,  3.18156456e-08,  2.89799288e-08,\n",
       "        2.63710416e-08,  2.39638971e-08,  2.17519727e-08,  1.97352685e-08,\n",
       "        1.79137845e-08,  1.62875207e-08,  1.48556187e-08,  1.35608387e-08,\n",
       "        1.23685923e-08,  1.12788795e-08,  1.02917003e-08,  9.40705479e-09,\n",
       "        8.62494287e-09,  7.92373730e-09,  7.27087910e-09,  6.66604316e-09,\n",
       "        6.10922949e-09,  5.60043807e-09,  5.13966892e-09,  4.72254214e-09,\n",
       "        4.33373441e-09,  3.97192454e-09,  3.63711252e-09,  3.32929835e-09,\n",
       "        3.04848204e-09,  2.79386041e-09,  2.55801047e-09,  2.33912781e-09,\n",
       "        2.13721242e-09,  1.95226431e-09,  1.78428348e-09,  1.63318751e-09,\n",
       "        1.49464112e-09,  1.36619035e-09,  1.24783519e-09,  1.13957564e-09,\n",
       "        1.04141171e-09,  9.53343400e-10,  8.73532807e-10,  7.99393062e-10,\n",
       "        7.30906004e-10,  6.68071632e-10,  6.10889945e-10,  5.59360945e-10,\n",
       "        4.88664770e-10,  4.09237449e-10,  3.33251590e-10,  2.60707193e-10,\n",
       "        1.91604258e-10,  1.25942785e-10,  6.37227743e-11,  4.94422509e-12,\n",
       "       -5.03928621e-11, -1.02288487e-10, -1.50742651e-10, -1.95755352e-10,\n",
       "       -2.37326592e-10, -2.75456369e-10, -3.10144685e-10, -3.41391538e-10,\n",
       "       -3.69196930e-10, -3.93560860e-10, -4.14483328e-10, -4.31964333e-10,\n",
       "       -4.46003877e-10, -4.56601959e-10, -4.63758579e-10, -4.67473737e-10,\n",
       "       -4.67747433e-10, -4.64579668e-10, -4.57970440e-10, -4.47919750e-10,\n",
       "       -4.34427598e-10, -4.17493985e-10, -3.97118909e-10, -3.73302372e-10,\n",
       "       -3.46044372e-10, -3.38073835e-10, -3.48434251e-10, -3.57881812e-10,\n",
       "       -3.66416519e-10, -3.74038371e-10, -3.80747369e-10, -3.86543512e-10,\n",
       "       -3.91426801e-10, -3.95397234e-10, -3.98454814e-10, -4.00599539e-10,\n",
       "       -4.01831409e-10, -4.02150424e-10, -4.01556585e-10, -4.00049892e-10,\n",
       "       -3.97630344e-10, -3.94297941e-10, -3.90052684e-10, -3.84894572e-10,\n",
       "       -3.78823606e-10, -3.71839785e-10, -3.63943109e-10, -3.55133579e-10,\n",
       "       -3.45411195e-10, -3.34775955e-10, -3.23227861e-10, -3.10766913e-10,\n",
       "       -2.97393110e-10, -2.83106452e-10, -2.67906940e-10, -2.51794574e-10,\n",
       "       -2.34769352e-10, -2.16831277e-10, -2.16358737e-10, -2.11395002e-10,\n",
       "       -2.06431266e-10, -2.01467531e-10, -1.96503795e-10, -1.91540060e-10,\n",
       "       -1.86576325e-10, -1.81612589e-10, -1.76648854e-10, -1.71685119e-10,\n",
       "       -1.66721383e-10, -1.61757648e-10, -1.56793913e-10, -1.51830177e-10,\n",
       "       -1.46866442e-10, -1.41902707e-10, -1.36938971e-10, -1.31975236e-10,\n",
       "       -1.27011500e-10, -1.22047765e-10, -1.17084030e-10, -1.12120294e-10,\n",
       "       -1.07156559e-10, -1.02192824e-10, -9.72290883e-11, -9.22653529e-11,\n",
       "       -8.73016175e-11, -8.23378822e-11, -7.73741468e-11, -7.24104115e-11,\n",
       "       -6.74466761e-11, -6.24829407e-11, -5.75192054e-11, -5.38699850e-11,\n",
       "       -5.37124200e-11, -5.35548550e-11, -5.33972899e-11, -5.32397249e-11,\n",
       "       -5.30821599e-11, -5.29245949e-11, -5.27670298e-11, -5.26094648e-11,\n",
       "       -5.24518998e-11, -5.22943347e-11, -5.21367697e-11, -5.19792047e-11,\n",
       "       -5.18216397e-11, -5.16640746e-11, -5.15065096e-11, -5.13489446e-11,\n",
       "       -5.11913795e-11, -5.10338145e-11, -5.08762495e-11, -5.07186845e-11,\n",
       "       -5.05611194e-11, -5.04035544e-11, -5.02459894e-11, -5.00884244e-11,\n",
       "       -4.99308593e-11, -4.97732943e-11, -4.96157293e-11, -4.94581642e-11,\n",
       "       -4.93005992e-11, -4.91430342e-11, -4.89854692e-11, -4.88279041e-11,\n",
       "       -4.86703391e-11, -4.85127741e-11, -4.83552091e-11, -4.81976440e-11,\n",
       "       -4.80400790e-11, -4.78825140e-11, -4.77249489e-11, -4.75673839e-11,\n",
       "       -4.74098189e-11, -4.72522539e-11, -4.70946888e-11, -4.69371238e-11,\n",
       "       -4.67795588e-11, -4.66219938e-11, -4.64644287e-11, -4.63068637e-11,\n",
       "       -4.61492987e-11, -4.59917336e-11, -4.58341686e-11, -4.56766036e-11,\n",
       "       -4.55190386e-11, -4.53614735e-11, -4.52039085e-11, -4.50463435e-11,\n",
       "       -4.48887784e-11, -4.47312134e-11, -4.45736484e-11, -4.44160834e-11,\n",
       "       -4.42585183e-11, -4.41009533e-11, -4.39433883e-11, -4.37858233e-11,\n",
       "       -4.36282582e-11, -4.34706932e-11, -4.33131282e-11, -4.31555631e-11,\n",
       "       -4.29979981e-11, -4.28404331e-11, -4.26828681e-11, -4.25253030e-11,\n",
       "       -4.23677380e-11, -4.22101730e-11, -4.20526080e-11, -4.18950429e-11,\n",
       "       -4.17374779e-11, -4.15799129e-11, -4.14223478e-11, -4.12647828e-11,\n",
       "       -4.11072178e-11, -4.09496528e-11, -4.07920877e-11, -4.06345227e-11,\n",
       "       -4.04769577e-11, -4.03193927e-11, -4.01618276e-11, -4.00042626e-11,\n",
       "       -3.98466976e-11, -3.96891325e-11, -3.95315675e-11, -3.93740025e-11,\n",
       "       -3.92164375e-11, -3.90588724e-11, -3.89013074e-11, -3.87437424e-11,\n",
       "       -3.85861773e-11, -3.84286123e-11, -3.82710473e-11, -3.81134823e-11,\n",
       "       -3.79559172e-11, -3.77983522e-11, -3.76407872e-11, -3.74832222e-11,\n",
       "       -3.73256571e-11, -3.71680921e-11, -3.70105271e-11, -3.68529620e-11,\n",
       "       -3.66953970e-11, -3.65378320e-11, -3.63802670e-11, -3.62227019e-11,\n",
       "       -3.60651369e-11, -3.59075719e-11, -3.57500069e-11, -3.55924418e-11,\n",
       "       -3.54348768e-11, -3.52773118e-11, -3.51197467e-11, -3.49621817e-11,\n",
       "       -3.48046167e-11, -3.46470517e-11, -3.44894866e-11, -3.43319216e-11,\n",
       "       -3.41743566e-11, -3.40167916e-11, -3.38592265e-11, -3.37016615e-11,\n",
       "       -3.35440965e-11, -3.33865314e-11, -3.32289664e-11, -3.30714014e-11,\n",
       "       -3.29138364e-11, -3.27562713e-11, -3.25987063e-11, -3.24411413e-11,\n",
       "       -3.22835762e-11, -3.21260112e-11, -3.19684462e-11, -3.18108812e-11,\n",
       "       -3.16533161e-11, -3.14957511e-11, -3.13381861e-11, -3.11806211e-11,\n",
       "       -3.10230560e-11, -3.08654910e-11, -3.07079260e-11, -3.05503609e-11,\n",
       "       -3.03927959e-11, -3.02352309e-11, -3.00776659e-11, -2.99201008e-11,\n",
       "       -2.97625358e-11, -2.96049708e-11, -2.94474058e-11, -2.92898407e-11,\n",
       "       -2.91322757e-11, -2.89747107e-11, -2.88171456e-11, -2.86595806e-11,\n",
       "       -2.85020156e-11, -2.83444506e-11, -2.81868855e-11, -2.80293205e-11,\n",
       "       -2.78717555e-11, -2.77141904e-11, -2.75566254e-11, -2.73990604e-11,\n",
       "       -2.72414954e-11, -2.70839303e-11, -2.69263653e-11, -2.67688003e-11,\n",
       "       -2.66112353e-11, -2.64536702e-11, -2.62961052e-11, -2.61385402e-11,\n",
       "       -2.59809751e-11, -2.58234101e-11, -2.56658451e-11, -2.55082801e-11,\n",
       "       -2.53507150e-11, -2.51931500e-11, -2.50355850e-11, -2.48780200e-11,\n",
       "       -2.47204549e-11, -2.45628899e-11, -2.44053249e-11, -2.42477598e-11,\n",
       "       -2.40901948e-11, -2.39326298e-11, -2.37750648e-11, -2.36174997e-11,\n",
       "       -2.34599347e-11, -2.33023697e-11, -2.31448047e-11, -2.29872396e-11,\n",
       "       -2.28296746e-11, -2.26721096e-11, -2.25145445e-11, -2.23569795e-11,\n",
       "       -2.21994145e-11, -2.20418495e-11, -2.18842844e-11, -2.17267194e-11,\n",
       "       -2.15691544e-11, -2.14115893e-11, -2.12540243e-11, -2.10964593e-11,\n",
       "       -2.09388943e-11, -2.07813292e-11, -2.06237642e-11, -2.04661992e-11,\n",
       "       -2.03086342e-11, -2.01510691e-11, -1.99935041e-11, -1.98359391e-11,\n",
       "       -1.96783740e-11, -1.95208090e-11, -1.93632440e-11, -1.92056790e-11,\n",
       "       -1.90481139e-11, -1.88905489e-11, -1.87329839e-11, -1.85754189e-11,\n",
       "       -1.84178538e-11, -1.82602888e-11, -1.81027238e-11, -1.79451587e-11,\n",
       "       -1.77875937e-11, -1.76300287e-11, -1.74724637e-11, -1.73148986e-11,\n",
       "       -1.71573336e-11, -1.69997686e-11, -1.68422036e-11, -1.66846385e-11,\n",
       "       -1.65270735e-11, -1.63695085e-11, -1.62119434e-11, -1.60543784e-11,\n",
       "       -1.58968134e-11, -1.57392484e-11, -1.55816833e-11, -1.54241183e-11,\n",
       "       -1.52665533e-11, -1.51089882e-11, -1.49514232e-11, -1.47938582e-11,\n",
       "       -1.46362932e-11, -1.44787281e-11, -1.43211631e-11, -1.41635981e-11,\n",
       "       -1.40060331e-11, -1.38484680e-11, -1.36909030e-11, -1.35333380e-11,\n",
       "       -1.33757729e-11, -1.32182079e-11, -1.30606429e-11, -1.29030779e-11,\n",
       "       -1.27455128e-11, -1.25879478e-11, -1.24303828e-11, -1.22728178e-11,\n",
       "       -1.21152527e-11, -1.19576877e-11, -1.18001227e-11, -1.16425576e-11,\n",
       "       -1.14849926e-11, -1.13274276e-11, -1.11698626e-11, -1.10122975e-11,\n",
       "       -1.08547325e-11, -1.06971675e-11, -1.05396024e-11, -1.03820374e-11,\n",
       "       -1.02244724e-11, -1.00669074e-11, -9.90934234e-12, -9.75177731e-12,\n",
       "       -9.59421228e-12, -9.43664726e-12])"
      ]
     },
     "execution_count": 17,
     "metadata": {},
     "output_type": "execute_result"
    }
   ],
   "source": [
    "# example curve of our differential equationa\n",
    "popt=[0.4,0.1]\n",
    "fit_odeint(t, *popt)"
   ]
  },
  {
   "cell_type": "code",
   "execution_count": 18,
   "metadata": {},
   "outputs": [],
   "source": [
    "# the resulting curve has to be fitted\n",
    "# free parameters are here beta and gamma"
   ]
  },
  {
   "cell_type": "code",
   "execution_count": 19,
   "metadata": {},
   "outputs": [
    {
     "name": "stderr",
     "output_type": "stream",
     "text": [
      "/opt/anaconda3/lib/python3.7/site-packages/scipy/integrate/odepack.py:247: ODEintWarning: Excess work done on this call (perhaps wrong Dfun type). Run with full_output = 1 to get quantitative information.\n",
      "  warnings.warn(warning_msg, ODEintWarning)\n",
      "/opt/anaconda3/lib/python3.7/site-packages/ipykernel_launcher.py:16: RuntimeWarning: overflow encountered in double_scalars\n",
      "  app.launch_new_instance()\n",
      "/opt/anaconda3/lib/python3.7/site-packages/ipykernel_launcher.py:17: RuntimeWarning: overflow encountered in double_scalars\n",
      "/opt/anaconda3/lib/python3.7/site-packages/ipykernel_launcher.py:18: RuntimeWarning: overflow encountered in double_scalars\n"
     ]
    },
    {
     "name": "stdout",
     "output_type": "stream",
     "text": [
      "standard deviation errors :  [8.63088878e-03 7.85933777e-05]  start infect: 21\n",
      "Optimal parameters: beta = 0.08843900764866822  and gamma =  -0.004238629921727184\n"
     ]
    }
   ],
   "source": [
    "popt, pcov = optimize.curve_fit(fit_odeint, t, ydata)\n",
    "perr = np.sqrt(np.diag(pcov))\n",
    "    \n",
    "print('standard deviation errors : ',str(perr), ' start infect:',ydata[0])\n",
    "print(\"Optimal parameters: beta =\", popt[0], \" and gamma = \", popt[1])\n",
    "\n"
   ]
  },
  {
   "cell_type": "code",
   "execution_count": 20,
   "metadata": {},
   "outputs": [],
   "source": [
    "# get the final fitted curve\n",
    "fitted=fit_odeint(t, *popt)"
   ]
  },
  {
   "cell_type": "code",
   "execution_count": 21,
   "metadata": {},
   "outputs": [
    {
     "data": {
      "image/png": "[encoded data removed]",
      "text/plain": [
       "<Figure size 1152x648 with 1 Axes>"
      ]
     },
     "metadata": {},
     "output_type": "display_data"
    },
    {
     "name": "stdout",
     "output_type": "stream",
     "text": [
      "Optimal parameters: beta = 0.08843900764866822  and gamma =  -0.004238629921727184\n",
      "Basic Reproduction Number R0  -20.864998662735463\n",
      "This ratio is derived as the expected number of new infections (these new infections are sometimes called secondary infections from a single infection in a population where all subjects are susceptible. @wiki\n"
     ]
    }
   ],
   "source": [
    "plt.semilogy(t, ydata, 'o')\n",
    "plt.semilogy(t, fitted)\n",
    "plt.title(\"Fit of SIR model for Germany cases\")\n",
    "plt.ylabel(\"Population infected\")\n",
    "plt.xlabel(\"Days\")\n",
    "plt.show()\n",
    "print(\"Optimal parameters: beta =\", popt[0], \" and gamma = \", popt[1])\n",
    "print(\"Basic Reproduction Number R0 \" , popt[0]/ popt[1])\n",
    "print(\"This ratio is derived as the expected number of new infections (these new infections are sometimes called secondary infections from a single infection in a population where all subjects are susceptible. @wiki\")"
   ]
  },
  {
   "cell_type": "code",
   "execution_count": null,
   "metadata": {},
   "outputs": [],
   "source": []
  }
 ],
 "metadata": {
  "kernelspec": {
   "display_name": "Python 3",
   "language": "python",
   "name": "python3"
  },
  "language_info": {
   "codemirror_mode": {
    "name": "ipython",
    "version": 3
   },
   "file_extension": ".py",
   "mimetype": "text/x-python",
   "name": "python",
   "nbconvert_exporter": "python",
   "pygments_lexer": "ipython3",
   "version": "3.7.10"
  }
 },
 "nbformat": 4,
 "nbformat_minor": 2
}
